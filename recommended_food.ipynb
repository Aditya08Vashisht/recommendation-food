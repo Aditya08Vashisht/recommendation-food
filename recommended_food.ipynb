{
 "cells": [
  {
   "cell_type": "code",
   "execution_count": 1,
   "metadata": {},
   "outputs": [],
   "source": [
    "import streamlit as st\n",
    "import pandas as pd\n",
    "from groq import Groq\n"
   ]
  },
  {
   "cell_type": "code",
   "execution_count": 2,
   "metadata": {},
   "outputs": [],
   "source": [
    "# Initialize the Groq client\n",
    "client = Groq(\n",
    "    api_key=\"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\",\n",
    ")\n"
   ]
  },
  {
   "cell_type": "code",
   "execution_count": 3,
   "metadata": {},
   "outputs": [],
   "source": [
    "# Load your food dataset\n",
    "df = pd.read_csv('C:\\\\Users\\\\DELL-7373\\\\Desktop\\\\langchain\\\\1662574418893344.csv')\n"
   ]
  },
  {
   "cell_type": "code",
   "execution_count": 4,
   "metadata": {},
   "outputs": [],
   "source": [
    "# Extract food items from the 'Describe' column\n",
    "try:\n",
    "    food_items = df['Describe'].str.split(',').explode().str.strip().unique().tolist()\n",
    "except KeyError:\n",
    "    st.error(\"The column 'Describe' does not exist. Please check your dataset.\")\n",
    "    st.stop()\n"
   ]
  },
  {
   "cell_type": "code",
   "execution_count": 5,
   "metadata": {},
   "outputs": [],
   "source": [
    "# Function to generate dish recommendations\n",
    "def recommend_dishes(selected_items):\n",
    "    # Prepare the prompt with selected items and dish names\n",
    "    dish_list = df['Name'].tolist()  # Using the 'Name' column for dish titles\n",
    "    prompt_content = (\n",
    "        f\"Based on the selected items: {selected_items}, recommend dishes from this list: {dish_list}. \"\n",
    "        \"Keep the response short and precise. Provide only the top 2-3 dish recommendations and \"\n",
    "        \"suggest a few additional ingredients needed for each dish.\"\n",
    "    )\n",
    "\n",
    "    # Create a chat completion request\n",
    "    chat_completion = client.chat.completions.create(\n",
    "        messages=[\n",
    "            {\n",
    "                \"role\": \"user\",\n",
    "                \"content\": prompt_content,\n",
    "            }\n",
    "        ],\n",
    "        model=\"llama3-70b-8192\",  # Ensure this model is supported by your Groq account\n",
    "    )\n",
    "\n",
    "    # Return the response from the LLM\n",
    "    return chat_completion.choices[0].message.content\n"
   ]
  },
  {
   "cell_type": "code",
   "execution_count": null,
   "metadata": {},
   "outputs": [],
   "source": [
    "# Streamlit UI\n",
    "st.title(\"Dish Recommendation System\")\n",
    "\n",
    "# Create a multiselect box for the user to select food items\n",
    "selected_items = st.multiselect(\"Select the food items you have:\", food_items)\n",
    "\n",
    "# When the user clicks the \"Recommend Dishes\" button\n",
    "if st.button(\"Recommend Dishes\"):\n",
    "    if selected_items:\n",
    "        recommendations = recommend_dishes(selected_items)\n",
    "        st.write(\"Dish Recommendations:\")\n",
    "        st.write(recommendations)\n",
    "    else:\n",
    "        st.write(\"Please select at least one food item.\")"
   ]
  }
 ],
 "metadata": {
  "kernelspec": {
   "display_name": "base",
   "language": "python",
   "name": "python3"
  },
  "language_info": {
   "codemirror_mode": {
    "name": "ipython",
    "version": 3
   },
   "file_extension": ".py",
   "mimetype": "text/x-python",
   "name": "python",
   "nbconvert_exporter": "python",
   "pygments_lexer": "ipython3",
   "version": "3.11.5"
  }
 },
 "nbformat": 4,
 "nbformat_minor": 2
}
